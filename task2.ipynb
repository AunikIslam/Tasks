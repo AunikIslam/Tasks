{
  "nbformat": 4,
  "nbformat_minor": 0,
  "metadata": {
    "colab": {
      "name": "task2.ipynb",
      "provenance": []
    },
    "kernelspec": {
      "name": "python3",
      "display_name": "Python 3"
    }
  },
  "cells": [
    {
      "cell_type": "code",
      "metadata": {
        "colab": {
          "base_uri": "https://localhost:8080/"
        },
        "id": "YOcZMQdDnyMS",
        "outputId": "d2242a90-a1d3-4989-f956-82a369363098"
      },
      "source": [
        "def efficientjanitor(weight):\r\n",
        "  numberoftrips = 0\r\n",
        "  start = 0\r\n",
        "  end = len(weight)-1\r\n",
        "  \r\n",
        "  while start<=end:\r\n",
        "    if weight[start]+weight[end]<=3.0 and weight[start]+weight[end]>=1.01:\r\n",
        "      \r\n",
        "      start = start+1\r\n",
        "      end = end - 1\r\n",
        "      numberoftrips = numberoftrips+1\r\n",
        "\r\n",
        "    if weight[start]+weight[end]>3.0:\r\n",
        "      numberoftrips = numberoftrips+1\r\n",
        "      end = end - 1\r\n",
        "      \r\n",
        "  return numberoftrips\r\n",
        "\r\n",
        "    \r\n",
        "\r\n",
        "#weight = [1.01, 1.991, 1.32, 1.4]\r\n",
        "weight = [1.01, 1.01, 1.01, 1.4, 2.4]\r\n",
        "weight.sort()\r\n",
        "print(efficientjanitor(weight))"
      ],
      "execution_count": 1,
      "outputs": [
        {
          "output_type": "stream",
          "text": [
            "3\n"
          ],
          "name": "stdout"
        }
      ]
    }
  ]
}